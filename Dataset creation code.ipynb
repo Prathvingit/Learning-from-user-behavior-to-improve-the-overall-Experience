{
 "cells": [
  {
   "cell_type": "code",
   "execution_count": 1,
   "id": "ae02e4db",
   "metadata": {},
   "outputs": [],
   "source": [
    "import pandas as pd\n",
    "import numpy as np\n",
    "\n",
    "num_samples = 1000\n",
    "\n",
    "np.random.seed(42) \n",
    "\n",
    "\n",
    "page_views = np.random.randint(1, 50, num_samples)\n",
    "clicks = np.random.randint(1, 10, num_samples)\n",
    "time_spent = np.random.randint(30, 600, num_samples)  \n",
    "\n",
    "engagement_levels = ['low', 'medium', 'high']\n",
    "engagement = np.random.choice(engagement_levels, num_samples)\n",
    "\n",
    "data = pd.DataFrame({\n",
    "    'page_views': page_views,\n",
    "    'clicks': clicks,\n",
    "    'time_spent': time_spent,\n",
    "    'engagement': engagement\n",
    "})\n",
    "\n",
    "\n",
    "data.to_csv('user_behavior_data.csv', index=False)\n"
   ]
  },
  {
   "cell_type": "code",
   "execution_count": null,
   "id": "aef459ca",
   "metadata": {},
   "outputs": [],
   "source": []
  }
 ],
 "metadata": {
  "kernelspec": {
   "display_name": "Python 3 (ipykernel)",
   "language": "python",
   "name": "python3"
  },
  "language_info": {
   "codemirror_mode": {
    "name": "ipython",
    "version": 3
   },
   "file_extension": ".py",
   "mimetype": "text/x-python",
   "name": "python",
   "nbconvert_exporter": "python",
   "pygments_lexer": "ipython3",
   "version": "3.11.4"
  }
 },
 "nbformat": 4,
 "nbformat_minor": 5
}
